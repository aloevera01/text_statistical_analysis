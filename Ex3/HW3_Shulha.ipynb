{
 "cells": [
  {
   "cell_type": "code",
   "execution_count": 213,
   "id": "decimal-travel",
   "metadata": {},
   "outputs": [
    {
     "name": "stderr",
     "output_type": "stream",
     "text": [
      "[nltk_data] Downloading package punkt to\n",
      "[nltk_data]     C:\\Users\\Vera\\AppData\\Roaming\\nltk_data...\n",
      "[nltk_data]   Package punkt is already up-to-date!\n",
      "[nltk_data] Downloading package averaged_perceptron_tagger to\n",
      "[nltk_data]     C:\\Users\\Vera\\AppData\\Roaming\\nltk_data...\n",
      "[nltk_data]   Package averaged_perceptron_tagger is already up-to-\n",
      "[nltk_data]       date!\n",
      "[nltk_data] Downloading package wordnet to\n",
      "[nltk_data]     C:\\Users\\Vera\\AppData\\Roaming\\nltk_data...\n",
      "[nltk_data]   Package wordnet is already up-to-date!\n",
      "[nltk_data] Downloading package stopwords to\n",
      "[nltk_data]     C:\\Users\\Vera\\AppData\\Roaming\\nltk_data...\n",
      "[nltk_data]   Package stopwords is already up-to-date!\n",
      "[nltk_data] Downloading package omw-1.4 to\n",
      "[nltk_data]     C:\\Users\\Vera\\AppData\\Roaming\\nltk_data...\n",
      "[nltk_data]   Package omw-1.4 is already up-to-date!\n"
     ]
    }
   ],
   "source": [
    "import requests\n",
    "import bs4\n",
    "import numpy as np\n",
    "import nltk\n",
    "import matplotlib.pyplot as plt\n",
    "import re\n",
    "import scipy\n",
    "nltk.download('punkt')\n",
    "nltk.download('averaged_perceptron_tagger') \n",
    "nltk.download('wordnet') \n",
    "nltk.download('stopwords')\n",
    "nltk.download('omw-1.4')\n",
    "lemmatizer=nltk.stem.WordNetLemmatizer() "
   ]
  },
  {
   "cell_type": "code",
   "execution_count": 2,
   "id": "changed-telescope",
   "metadata": {},
   "outputs": [],
   "source": [
    "def tokenize_text(text):\n",
    "    \n",
    "    temp_tokenizedtext = nltk.word_tokenize(text)    \n",
    "    mycrawled_nltktext = nltk.Text(temp_tokenizedtext)    \n",
    "        \n",
    "    return mycrawled_nltktext\n",
    "\n",
    "\n",
    "def lower_case_text(text):\n",
    "    mycrawled_lowercasetext = [] \n",
    "\n",
    "    for k in range(len(text)):        \n",
    "        lowercaseword = text[k].lower()        \n",
    "        mycrawled_lowercasetext.append(lowercaseword)    \n",
    "    \n",
    "    return mycrawled_lowercasetext\n",
    "\n",
    "def tagtowordnet(postag):   \n",
    "    wordnettag = -1   \n",
    "    if postag[0] == 'N':        \n",
    "        wordnettag = 'n'   \n",
    "    elif postag[0] == 'V':        \n",
    "        wordnettag = 'v'   \n",
    "    elif postag[0] == 'J':        \n",
    "        wordnettag = 'a'    \n",
    "    elif postag[0] == 'R':        \n",
    "        wordnettag = 'r'    \n",
    "    return(wordnettag)\n",
    "\n",
    "def lemmatizetext(nltktexttolemmatize):    \n",
    "    # Tag the text with POS tags    \n",
    "    taggedtext = nltk.pos_tag(nltktexttolemmatize)   \n",
    "    # Lemmatize each word text    \n",
    "    lemmatizedtext = []    \n",
    "    for l in range(len(taggedtext)):       \n",
    "        # Lemmatize a word using the WordNet converted POS tag       \n",
    "        wordtolemmatize = taggedtext[l][0]        \n",
    "        wordnettag = tagtowordnet(taggedtext[l][1])        \n",
    "        if wordnettag != -1:            \n",
    "            lemmatizedword = lemmatizer.lemmatize(wordtolemmatize,wordnettag)        \n",
    "        else:            \n",
    "            lemmatizedword=wordtolemmatize       \n",
    "            # Store the lemmatized word        \n",
    "        lemmatizedtext.append(lemmatizedword)\n",
    "        \n",
    "    return(lemmatizedtext) \n",
    "\n",
    "\n",
    "def make_vocabulary(text):\n",
    "    myvocabulary = [] \n",
    "    myindices_in_vocabulary = []\n",
    "    # Find the vocabulary of each document    \n",
    "    # Get unique words and where they occur      \n",
    "    uniqueresults = np.unique(text,return_inverse=True)   \n",
    "     # Store the vocabulary and indices\n",
    "    myvocabulary = uniqueresults[0]    \n",
    "    myindices_in_vocabulary = uniqueresults[1]    \n",
    "    \n",
    "    return myvocabulary, myindices_in_vocabulary\n"
   ]
  },
  {
   "cell_type": "code",
   "execution_count": 3,
   "id": "amended-dietary",
   "metadata": {},
   "outputs": [],
   "source": [
    "def count_occur(vocab, indices):\n",
    "    occurrencecounts = np.zeros((len(vocab),1)) \n",
    "    unifiedvocabulary_meancounts = np.zeros((len(vocab),1)) \n",
    "    unifiedvocabulary_countvariances = np.zeros((len(vocab),1))\n",
    "    \n",
    "    for l in range(len(indices)):    \n",
    "        occurrencecounts[indices[l]] = \\\n",
    "                                        occurrencecounts[indices[l]] + 1\n",
    "    \n",
    "    return occurrencecounts\n",
    "    "
   ]
  },
  {
   "cell_type": "code",
   "execution_count": 4,
   "id": "advised-communications",
   "metadata": {},
   "outputs": [],
   "source": [
    "# getting the html content of the \"Pride and Prejudice\"\n",
    "pride_prejudice_html = requests.get('https://www.gutenberg.org/files/1342/1342-0.txt')\n",
    "\n",
    "# getting the text from html content of the \"Pride and Prejudice\"\n",
    "pride_prejudice_text = bs4.BeautifulSoup(pride_prejudice_html.content,'html.parser')\n",
    "\n",
    "# delete /n and /r from the text of the \"Pride and Prejudice\"\n",
    "pride_prejudice_text = ' '.join(str(pride_prejudice_text).split())\n",
    "\n",
    "# tokenize a text of the \"Pride and Prejudice\"\n",
    "tokenized_pride_prejudice = tokenize_text(pride_prejudice_text)\n",
    "\n",
    "# make all words lowered case in the tokenized text of the \"Pride and Prejudice\"\n",
    "lower_cased_tokenized_pride_prejudice = lower_case_text(tokenized_pride_prejudice)\n",
    "\n",
    "# create the lemmatized text from the lowered cased and tokenized text of the \"Pride and Prejudice\"\n",
    "lemmatized_pride_prejudice = nltk.Text(lemmatizetext(lower_cased_tokenized_pride_prejudice))\n",
    "\n",
    "# create the vocabulary and its list of indices from the lemmatized text of the \"Pride and Prejudice\"\n",
    "pride_prejudice_vocabulary, indices_pride_prejudice_vocabulary = make_vocabulary(lemmatized_pride_prejudice)"
   ]
  },
  {
   "cell_type": "code",
   "execution_count": 7,
   "id": "editorial-implement",
   "metadata": {},
   "outputs": [],
   "source": [
    "occur_pride_prejudice = count_occur(pride_prejudice_vocabulary, indices_pride_prejudice_vocabulary)"
   ]
  },
  {
   "cell_type": "code",
   "execution_count": 8,
   "id": "certified-caribbean",
   "metadata": {},
   "outputs": [
    {
     "name": "stdout",
     "output_type": "stream",
     "text": [
      "[',' 'be' 'the' 'to' '.' 'of' 'and' 'have' 'her' 'i' 'a' 'in' '“' '”'\n",
      " 'she' ';' 'not' 'that' 'it' 'you' 'he' 'his' 'as' 'with' 'for' 'but' 'do'\n",
      " 'at' 'mr.' 'on' 'him' '’' 'my' 'by' 's' 'elizabeth' 'all' 'say' 'they'\n",
      " 'so' 'which' 'could' 'from' '!' 'no' 'very' 'this' 'what' 'would' '?'\n",
      " 'your' 'their' 'them' 'will' 'darcy' 'me' 'such' 'know' 'or' 'when' 'if'\n",
      " 'an' 'there' 'mrs.' 'can' 'make' 'bennet' 'think' 'much' 'more' 'must'\n",
      " 'any' 'bingley' 'see' 'jane' 'who' 'sister' 'miss' 'than' 'go' 'one'\n",
      " 'give' 'lady' 'come' 'we' 'should' 'well' 'how' 'good' 'before' 'other'\n",
      " 'herself' 'though' 'time' 'never' 'only' 'soon' 'some' 'may' 'after']\n"
     ]
    }
   ],
   "source": [
    "highest_occurrences_indices_pride_prejudice = np.argsort(\\\n",
    "                                                       -1*occur_pride_prejudice,axis=0) \n",
    "\n",
    "top_100_pride_prejudice = np.squeeze(pride_prejudice_vocabulary[\\\n",
    "                                                              highest_occurrences_indices_pride_prejudice[:100]])\n",
    "print(top_100_pride_prejudice)"
   ]
  },
  {
   "cell_type": "markdown",
   "id": "victorian-patent",
   "metadata": {},
   "source": [
    "3.1 (b) lexical dispersion plots "
   ]
  },
  {
   "cell_type": "code",
   "execution_count": 9,
   "id": "given-liability",
   "metadata": {},
   "outputs": [
    {
     "data": {
      "image/png": "[encoded data removed]",
      "text/plain": [
       "<Figure size 432x288 with 1 Axes>"
      ]
     },
     "metadata": {
      "needs_background": "light"
     },
     "output_type": "display_data"
    },
    {
     "data": {
      "image/png": "[encoded data removed]",
      "text/plain": [
       "<Figure size 432x288 with 1 Axes>"
      ]
     },
     "metadata": {
      "needs_background": "light"
     },
     "output_type": "display_data"
    },
    {
     "data": {
      "image/png": "[encoded data removed]",
      "text/plain": [
       "<Figure size 432x288 with 1 Axes>"
      ]
     },
     "metadata": {
      "needs_background": "light"
     },
     "output_type": "display_data"
    }
   ],
   "source": [
    "group_1 = ['pride', 'prejudice', 'elizabeth', 'darcy', 'charlotte','exempt']\n",
    "group_2 = ['love', 'hate', 'marriage', 'husband', 'wife']\n",
    "group_3 = ['father', 'mother', 'daughter', 'family', 'dance', 'happy']\n",
    "groups = [group_1, group_2, group_3]\n",
    "\n",
    "for group in groups:\n",
    "    plot = lemmatized_pride_prejudice.dispersion_plot(group)"
   ]
  },
  {
   "cell_type": "markdown",
   "id": "direct-contrary",
   "metadata": {},
   "source": [
    "Firstly, I paid attention to lexical dispersion of names of characters (Elizabeth, Darcy and Charlotte). With this information about names we can understand who is main characters (Elizabeth, Darcy) and who is the minor characters (Charlotte). In my opinion, high level of lexical dispersion of word \"love\", \"marriage\", \"husband\", \"wife\" through all book reflects the romantic (romance, melodrama) genre of the book. Also there is high level of lexical dispersion of words \"father\", \"mother\", \"daughter\", \"family\" from which it follows that events occur between characters who are connected by family ties. "
   ]
  },
  {
   "cell_type": "markdown",
   "id": "random-webcam",
   "metadata": {},
   "source": [
    "# 3.2"
   ]
  },
  {
   "cell_type": "code",
   "execution_count": 10,
   "id": "animated-basketball",
   "metadata": {},
   "outputs": [
    {
     "name": "stdout",
     "output_type": "stream",
     "text": [
      "[',' 'the' 'and' 'i' '.' 'of' 'be' 'to' 'my' 'a' 'in' 'have' 'that' ';'\n",
      " 'me' 'with' 'but' 'you' 'he' 'not' 'which' 'it' 'as' 'his' 'for' 'by' '“'\n",
      " 'on' 'this' 'from' 'her' 'at' 'when' '”' 'do' 'your' 'or' 'she' '!' '?'\n",
      " 'him' 'if' 'an' 'all' 'so' 'they' 'one' 'will' 'could' 'their' 'we'\n",
      " 'would' 'no' 'who' 'more' 'these' 'should' 'now' 'can' 'yet' 'before'\n",
      " 'some' '’' 'man' 'myself' 'day' 'father' 'what' 'our' 'say' 'upon' 'them'\n",
      " 'its' 'work' 'only' 'into' 'eye' 'find' 'friend' 'any' 'life' 'make'\n",
      " 'may' 'than' 'then' 'own' 'every' 'might' 'first' 'time' 'shall' 'great'\n",
      " 'take' 'feeling' 'become' 'even' 'know' 'how' 'return' 'towards']\n"
     ]
    }
   ],
   "source": [
    "# getting the html content of the \"Frankenstein\"\n",
    "frankenstein_html = requests.get('https://www.gutenberg.org/files/84/84-0.txt')\n",
    "\n",
    "# getting the text from the html content of the \"Frankenstein\"\n",
    "frankenstein_text = bs4.BeautifulSoup(frankenstein_html.content,'html.parser')\n",
    "\n",
    "# delete /n and /r from text of the \"Frankenstein\"\n",
    "frankenstein_text = ' '.join(str(frankenstein_text).split())\n",
    "\n",
    "# tokenize the text of the \"Frankenstein\"\n",
    "tokenized_frankenstein = tokenize_text(frankenstein_text)\n",
    "\n",
    "# make all words lowered case in the tokenized text of the \"Frankenstein\"\n",
    "lower_cased_tokenized_frankenstein = lower_case_text(tokenized_frankenstein)\n",
    "\n",
    "# create the lemmatized text from the lowered case and tokenized text of the \"Frankenstein\"\n",
    "lemmatized_frankenstein = nltk.Text(lemmatizetext(lower_cased_tokenized_frankenstein))\n",
    "\n",
    "# create a vocabulary and its list of indices from the lemmatized text of the \"Frankenstein\"\n",
    "frankenstein_vocabulary, indices_pride_frankenstein = make_vocabulary(lemmatized_frankenstein)\n",
    "\n",
    "# count occurance of the every word\n",
    "occur_frankenstein = count_occur(frankenstein_vocabulary, indices_pride_frankenstein)\n",
    "\n",
    "# sort indexces by the number of occurances\n",
    "highest_occurrences_indices_frankenstein = np.argsort(\\\n",
    "                                                       -1*occur_frankenstein,axis=0) \n",
    "\n",
    "# get top 100 words from the most common (top 100) indices\n",
    "top_100_frankenstein = np.squeeze(frankenstein_vocabulary[\\\n",
    "                                                              highest_occurrences_indices_frankenstein[:100]])\n",
    "print(top_100_frankenstein)"
   ]
  },
  {
   "cell_type": "code",
   "execution_count": 11,
   "id": "conventional-patient",
   "metadata": {},
   "outputs": [
    {
     "name": "stdout",
     "output_type": "stream",
     "text": [
      "Concordance for:  science\n",
      "Displaying 25 of 29 matches:\n",
      "cine , and those branch of physical science from which a naval adventurer might\n",
      "ch lead to my predilection for that science . when i be thirteen year of age we\n",
      "explode and that a modern system of science have be introduce which possess muc\n",
      "in the great disdain for a would-be science which could never even step within \n",
      "e branch of study appertain to that science as be build upon secure foundation \n",
      "t deeply imbue in the secret of his science . he ask me several question concer\n",
      "progress in the different branch of science appertain to natural philosophy . i\n",
      " by the modern professor of natural science . with a confusion of idea only to \n",
      "ry different when the master of the science seek immortality and power ; such v\n",
      "hose vision on which my interest in science be chiefly found . i be require to \n",
      "ry view of the present state of the science and explain many of its elementary \n",
      "get : “ the ancient teacher of this science , ” say he , “ promise impossibilit\n",
      "ent study and to devote myself to a science for which i believe myself to posse\n",
      "ave not neglect the other branch of science . a man would make but a very sorry\n",
      "r wish be to become really a man of science and not merely a petty experimental\n",
      "ould have advance far enough in the science not to derange their mechanism . he\n",
      "vate the acquaintance of the men of science of the university , and i find even\n",
      "m can conceive of the enticement of science . in other study you go as far as o\n",
      " death . i become acquaint with the science of anatomy , but this be not suffic\n",
      "rect their inquiry towards the same science , that i alone should be reserve to\n",
      "ement which every day take place in science and mechanic , i be encourage to ho\n",
      "nishing progress i have make in the science . he soon perceive that i dislike t\n",
      "ubject from my improvement , to the science itself , with a desire , as i evide\n",
      " sympathise in my taste for natural science ; and his literary pursuit differ w\n",
      " at that time i know nothing of the science of word or letter . “ the family , \n",
      "None\n",
      "\n",
      "\n",
      "Concordance for:  horror\n",
      "Displaying 25 of 49 matches:\n",
      "uld be impress with no supernatural horror . i do not ever remember to have tr\n",
      "ing-places . who shall conceive the horror of my secret toil as i dabble among\n",
      "f the dream vanish , and breathless horror and disgust fill my heart . unable \n",
      "lannel . i start from my sleep with horror ; a cold dew cover my forehead , my\n",
      " . oh ! no mortal could support the horror of that countenance . a mummy again\n",
      "extreme weakness . mingle with this horror , i felt the bitterness of disappoi\n",
      "is hand , and in a moment forgot my horror and misfortune ; i felt suddenly , \n",
      "will and power to effect purpose of horror , such as the deed which he have no\n",
      " to announce publicly ; its astound horror would be look upon as madness by th\n",
      " could make the murder memorable in horror . justine also be a girl of merit a\n",
      " place round his neck , a murmur of horror and indignation fill the court . ju\n",
      "countenance have alter . surprise , horror , and misery be strongly express . \n",
      " ignominy ? i could not sustain the horror of my situation , and when i percei\n",
      "ave before experienced sensation of horror , and i have endeavour to bestow up\n",
      " and then continue , “ i think with horror , my sweet lady , that you should b\n",
      "hetic soul , as , tear by remorse , horror , and despair , i behold those i lo\n",
      "r ’ s health be deeply shake by the horror of the recent event . elizabeth be \n",
      "myself on the grass , weigh down by horror and despair . at length i arrive at\n",
      "ve create . i tremble with rage and horror , resolve to wait his approach and \n",
      "tally be present at the trial ; his horror and indignation be uncontrollable w\n",
      " , in language which paint your own horror and render mine indelible . i sicke\n",
      " turn them from me with disdain and horror . the poor that stop at their door \n",
      "of my person be the chief object of horror with those who have formerly behold\n",
      "atha enter . who can describe their horror and consternation on behold me ? ag\n",
      "ool in have expose my person to the horror of his child . i ought to have fami\n",
      "None\n",
      "\n",
      "\n",
      "Concordance for:  monster\n",
      "Displaying 25 of 32 matches:\n",
      ", i behold the wretch—the miserable monster whom i have create . he hold up the\n",
      "walk about . i dread to behold this monster , but i fear still more that henry \n",
      "me ! save me ! ” i imagine that the monster seize me ; i struggle furiously and\n",
      "estore me to life . the form of the monster on whom i have bestow existence be \n",
      "almost begin to think that i be the monster that he say i be . he threaten exco\n",
      ", and i live in daily fear lest the monster whom i have create should perpetrat\n",
      "come home , and men appear to me as monster thirst for each other ’ s blood . y\n",
      "d of your remain friends. ” “ abhor monster ! fiend that thou art ! the torture\n",
      "y convince that i be in reality the monster that i be , i be fill with the bitt\n",
      "d of none like me . be i , then , a monster , a blot upon the earth , from whic\n",
      "accurse creator ! why do you form a monster so hideous that even _you_ turn fro\n",
      "lently . ‘ let me go , ’ he cry ; ‘ monster ! ugly wretch ! you wish to eat me \n",
      "ou must come with me. ’ “ ‘ hideous monster ! let me go . my papa be a syndic—h\n",
      "ntent me . it be true , we shall be monster , cut off from all the world ; but \n",
      "t perform my engagement and let the monster depart with his mate before i allow\n",
      "happiness . my promise fulfil , the monster would depart for ever . or ( so my \n",
      "itude . i do not doubt but that the monster follow me and would discover himsel\n",
      "will only exasperate my rage. ” the monster saw my determination in my face and\n",
      "rval—all leave behind , on whom the monster might satisfy his sanguinary and me\n",
      " at others i felt the finger of the monster already grasp my neck , and scream \n",
      "it be the watery , cloud eye of the monster , as i first saw them in my chamber\n",
      " , have fall a victim to me and the monster of my creation . i repassed , in my\n",
      "ould die to make her happy . if the monster execute his threat , death be inevi\n",
      " as if possess of magic power , the monster have blind me to his real intention\n",
      "rred . a grin be on the face of the monster ; he seem to jeer , as with his fie\n",
      "None\n",
      "\n",
      "\n",
      "Concordance for:  fear\n",
      "Displaying 25 of 66 matches:\n",
      "nd they be sufficient to conquer all fear of danger or death and to induce me \n",
      "however , lay to until the morning , fear to encounter in the dark those large\n",
      "re he be able to speak , and i often fear that his suffering have deprive him \n",
      "ong the tame scene of nature i might fear to encounter your unbelief , perhaps\n",
      "at a tale of superstition or to have fear the apparition of a spirit . darknes\n",
      "ion , listen attentively , catch and fear each sound as if it be to announce t\n",
      "if i seek to avoid the wretch whom i fear every turning of the street would pr\n",
      "y heart palpitate in the sickness of fear , and i hurry on with irregular step\n",
      "ho , on a lonely road , doth walk in fear and dread , and , have once turn rou\n",
      "dread to behold this monster , but i fear still more that henry should see him\n",
      "limb the hill or row on the lake . i fear that he will become an idle unless w\n",
      "ent to my recollection , but which i fear the detail to another would only imp\n",
      "y , might not be the less decisive . fear overcame me ; i dare no advance , dr\n",
      ", or to mock at my unhappiness ? ” i fear , my friend , that i shall render my\n",
      "et , as i draw near home , grief and fear again overcame me . night also close\n",
      "e evidence of fact a weight that , i fear , leave no hope for doubt . but she \n",
      "guiltless of this murder . i have no fear , therefore , that any circumstantia\n",
      " say i , “ and that shall be prove ; fear nothing , but let your spirit be che\n",
      "r , and they speak well of her ; but fear and hatred of the crime of which the\n",
      "ut do not mourn , dear girl . do not fear . i will proclaim , i will prove you\n",
      "ake her head mournfully . “ i do not fear to die , ” she say ; “ that pang be \n",
      "nd deprive the soul both of hope and fear . justine die , she rest , and i be \n",
      "alterable evil , and i live in daily fear lest the monster whom i have create \n",
      "the past . there be always scope for fear so long as anything i love remain be\n",
      "mighty as omnipotence—and i cease to fear or to bend before any be less almigh\n",
      "None\n",
      "\n",
      "\n"
     ]
    }
   ],
   "source": [
    "group_concordance = ['science', 'horror', 'monster', 'fear']\n",
    "\n",
    "for word in group_concordance:\n",
    "    print(\"Concordance for: \", word)\n",
    "    print(lemmatized_frankenstein.concordance(word))\n",
    "    print()\n",
    "    print()"
   ]
  },
  {
   "cell_type": "markdown",
   "id": "supreme-asthma",
   "metadata": {},
   "source": [
    "The occurrences of the \"science\". There are different types of science met through the text: \"Physical science\", \"modern ... science\", \"natural science\", \"science of anatomy\". And collocation \"man (men) of science\" means more to scientist than to scientist(s).\n",
    "\n",
    "The occurrences of the \"horror\". \"No horror\" rather mean negation of horror. Also I have found collocation \"horror ... fill\".\n",
    "\n",
    "The occurrences of the \"monster\". \"Monster whom I have create\", \"the monster\" implies a character (Frankenstein).\n",
    "\n",
    "The occurrences of the \"fear\". I have discovered that at the beginning \"I fear\" appears many times but closer to the end there is \"no(t) fear\", \"I cease to fear\". This can convey the meaning of the book that there was fear first and then it goes away at the end. "
   ]
  },
  {
   "cell_type": "code",
   "execution_count": 12,
   "id": "fatty-letter",
   "metadata": {},
   "outputs": [],
   "source": [
    "def remove_header_footer(text, name_book):\n",
    "    header = \"*** START OF THIS PROJECT GUTENBERG EBOOK \" + name_book.upper() + \" ***\"\n",
    "    footer = \"*** END OF THIS PROJECT GUTENBERG EBOOK \" + name_book.upper() + \" ***\"\n",
    "    no_header_text = text[(text.find(header) + len(header)):]\n",
    "    no_footer_text = no_header_text[:no_header_text.find(footer)]\n",
    "    \n",
    "    return no_footer_text"
   ]
  },
  {
   "cell_type": "code",
   "execution_count": 219,
   "id": "original-primary",
   "metadata": {},
   "outputs": [],
   "source": [
    "def prune_text(text, vocab, indices_vocab, high_occur_indices):\n",
    "    nltkstopwords = nltk.corpus.stopwords.words('english')\n",
    "    pruningdecisions = np.zeros((len(vocab),1)) \n",
    "    for k in range(len(vocab)):  \n",
    "        # Rule 1: check the nltk stop word list    \n",
    "        if (vocab[k] in nltkstopwords):        \n",
    "            pruningdecisions[k] = 1    \n",
    "            \n",
    "        # Rule 2: if the word is too short    \n",
    "        if len(vocab[k]) < 2:        \n",
    "            pruningdecisions[k] = 1      \n",
    "            \n",
    "        # Rule 3: if the word is too long    \n",
    "        if len(vocab[k]) > 20:        \n",
    "            pruningdecisions[k] = 1  \n",
    "            \n",
    "        # Rule 4: if the word is in the top 1% of frequent words   \n",
    "        if (k in high_occur_indices[\\\n",
    "                                    0:int(np.floor(len(vocab) * 0.01))]):        \n",
    "            pruningdecisions[k] = 1    \n",
    "        \n",
    "        # Rule 5: if the word occurs less than 4 times\n",
    "        if text.count(vocab[k]) < 4:\n",
    "            pruningdecisions[k] = 1  \n",
    "            \n",
    "    oldtopruned=[] \n",
    "    tempind=-1 \n",
    "    \n",
    "    for k in range(len(vocab)):    \n",
    "        if pruningdecisions[k] == 0:        \n",
    "            tempind += 1        \n",
    "            oldtopruned.append(tempind)    \n",
    "        else:        \n",
    "            oldtopruned.append(-1) \n",
    "            \n",
    "    #%% Create pruned texts \n",
    "    mycrawled_prunedtext = [] \n",
    "    myindices_in_prunedvocabulary = [] \n",
    "    \n",
    "    for l in range(len(text)):        \n",
    "        temp_oldindex = indices_vocab[l]                    \n",
    "        temp_newindex = oldtopruned[temp_oldindex]        \n",
    "        if temp_newindex != -1:            \n",
    "            mycrawled_prunedtext.append(vocab[temp_oldindex])    \n",
    "            myindices_in_prunedvocabulary.append(temp_newindex)\n",
    "    \n",
    "    remainingindices = np.squeeze(np.where(pruningdecisions == 0)[0]) \n",
    "    remainingvocabulary = vocab[remainingindices] \n",
    "    \n",
    "    return mycrawled_prunedtext, myindices_in_prunedvocabulary, remainingvocabulary, remainingindices"
   ]
  },
  {
   "cell_type": "code",
   "execution_count": 221,
   "id": "circular-isolation",
   "metadata": {},
   "outputs": [
    {
     "name": "stdout",
     "output_type": "stream",
     "text": [
      "['one' 'thornton' 'come' 'go' 'man' 'time' 'back' 'make' 'could' 'upon'\n",
      " 'men' 'would' 'life' 'sled' 'spitz' 'know' 'françois' 'great' 'head'\n",
      " 'never' 'thing' 'foot' 'like' 'two' 'long' 'camp' 'though' 'get' 'night'\n",
      " 'take' 'way' 'run' 'eye' 'last' 'club' 'break' 'trail' 'away' 'hand'\n",
      " 'saw' 'john' 'perrault' 'till' 'call' 'three' 'hundred' 'half' 'side'\n",
      " 'hal' 'say' 'first' 'face' 'trace' 'snow' 'find' 'place' 'fire' 'wolf'\n",
      " 'every' 'wild' 'team' 'cry' 'stand' 'spring' 'leave' 'turn' 'end' 'see'\n",
      " 'teeth' 'seem' 'husky' 'old' 'body' 'many' 'work' 'another' 'sol-leks'\n",
      " 'sound' 'ice' 'water' 'behind' 'leap' 'rest' 'good' 'hold' 'become'\n",
      " 'around' 'lay' 'fell' 'mile' 'give' 'dave' 'grow' 'look' 'start' 'keep'\n",
      " 'hour' 'forest' 'love' 'travel']\n"
     ]
    }
   ],
   "source": [
    "# getting the html content of the \"The Call of the Wild\"\n",
    "call_wild_html = requests.get('https://www.gutenberg.org/files/215/215-0.txt')\n",
    "\n",
    "name_book = \"The Call of the Wild\"\n",
    "\n",
    "# getting the text from the html content of the \"The Call of the Wild\"\n",
    "call_wild_text = bs4.BeautifulSoup(call_wild_html.content,'html.parser')\n",
    "\n",
    "# delete /n and /r from text of the \"The Call of the Wild\"\n",
    "call_wild_text = ' '.join(str(call_wild_text).split())\n",
    "\n",
    "# remove extra header and footer from the text of the \"The Call of the Wild\"\n",
    "call_wild_text_removed_extra = remove_header_footer(call_wild_text, name_book)\n",
    "\n",
    "# tokenize the text of the \"The Call of the Wild\"\n",
    "tokenized_call_wild = tokenize_text(call_wild_text_removed_extra)\n",
    "\n",
    "# make all words lowered case in the tokenized text of the \"The Call of the Wild\"\n",
    "lower_cased_tokenized_call_wild = lower_case_text(tokenized_call_wild)\n",
    "\n",
    "# create the lemmatized text from the lowered case and tokenized text of the \"The Call of the Wild\"\n",
    "lemmatized_call_wild = nltk.Text(lemmatizetext(lower_cased_tokenized_call_wild))\n",
    "\n",
    "# create a vocabulary and its list of indices from the lemmatized text of the \"The Call of the Wild\"\n",
    "call_wild_vocabulary, indices_call_wild_vocabulary = make_vocabulary(lemmatized_call_wild)\n",
    "\n",
    "# count occurance of the every word\n",
    "occur_call_wild = count_occur(remain_pruned_vocabulary_call_wild, indices_pruned_vocab_call_wild)\n",
    "\n",
    "# sort indexces by the number of occurances\n",
    "highest_occurrences_indices_call_wild = np.argsort(\\\n",
    "                                                    -1*occur_call_wild,axis=0) \n",
    "\n",
    "#pruning\n",
    "pruned_call_wild, indices_pruned_vocab_call_wild, \\\n",
    "                  remain_pruned_vocabulary_call_wild, \\\n",
    "                  remain_indices_pruned_vocab_call_wild = prune_text(lemmatized_call_wild, \n",
    "                                                                call_wild_vocabulary,\n",
    "                                                                indices_call_wild_vocabulary, \n",
    "                                                                highest_occurrences_indices_call_wild)\n",
    "\n",
    "# get top 100 words from the most common (top 100) indices\n",
    "top_100_call_wild = np.squeeze(remain_pruned_vocabulary_call_wild[\\\n",
    "                                                    highest_occurrences_indices_call_wild[:100]])\n",
    "print(top_100_call_wild)"
   ]
  },
  {
   "cell_type": "markdown",
   "id": "otherwise-redhead",
   "metadata": {},
   "source": [
    "# 3.3b"
   ]
  },
  {
   "cell_type": "code",
   "execution_count": 16,
   "id": "hispanic-criminal",
   "metadata": {},
   "outputs": [],
   "source": [
    "def find_dist_between_words(pruned_text, pruned_vocab, indices_pruned_vocab):\n",
    "    distanceoccurrences = scipy.sparse.lil_matrix(\\\n",
    "                                                (len(pruned_vocab),len(pruned_vocab))) \n",
    "    \n",
    "    sumdistances = scipy.sparse.lil_matrix(\\\n",
    "                                         (len(pruned_vocab),len(pruned_vocab))) \n",
    "    \n",
    "    sumabsdistances = scipy.sparse.lil_matrix(\\\n",
    "                                            (len(pruned_vocab),len(pruned_vocab))) \n",
    "    \n",
    "    sumdistancesquares = scipy.sparse.lil_matrix(\\\n",
    "                                               (len(pruned_vocab),len(pruned_vocab)))\n",
    "    \n",
    "    latestoccurrencepositions = scipy.sparse.lil_matrix(\\\n",
    "                                                        (len(pruned_vocab),len(pruned_vocab)))   \n",
    "    \n",
    "        # Loop through all word positions m of document l    \n",
    "    for m in range(len(pruned_text)):        \n",
    "            # Get the vocabulary index of the current word in position m        \n",
    "        currentword = indices_pruned_vocab[m]        \n",
    "        # Loop through previous words, counting back up to 10 words from current word       \n",
    "        windowsize = min(m,10)        \n",
    "        for n in range(windowsize):            \n",
    "            # Get the vocabulary index of the previous word in position m-n-1            \n",
    "            previousword = indices_pruned_vocab[m - n - 1]            \n",
    "            # Is this the fist time we have encountered this word while            \n",
    "            # counting back from the word at m? Then it is the closest pair. \n",
    "            if latestoccurrencepositions[currentword,previousword] < m:                            \n",
    "                # Store the occurrence of this word pair with the word at m as the 1st word                \n",
    "                distanceoccurrences[currentword,previousword] = \\\n",
    "                                distanceoccurrences[currentword,previousword] + 1\n",
    "                \n",
    "                sumdistances[currentword,previousword] = sumdistances[\\\n",
    "                                currentword,previousword] + ((m - n - 1) - m)      \n",
    "                \n",
    "                sumabsdistances[currentword,previousword] = \\\n",
    "                                sumabsdistances[currentword,previousword] + abs((m - n - 1) - m)    \n",
    "                \n",
    "                sumdistancesquares[currentword,previousword] = \\\n",
    "                                sumdistancesquares[currentword,previousword] + ((m - n - 1) - m) ** 2 \n",
    "                \n",
    "                # Store the occurrence of this word pair with the word at n as the 1st word \n",
    "                \n",
    "                distanceoccurrences[previousword,currentword] = \\\n",
    "                                distanceoccurrences[previousword,currentword] + 1                \n",
    "                sumdistances[previousword,currentword] = sumdistances[\\\n",
    "                                previousword,currentword] + (m - (m - n - 1))                \n",
    "                sumabsdistances[previousword,currentword] = \\\n",
    "                                sumabsdistances[currentword,previousword] + abs(m- (m - n - 1))                \n",
    "                sumdistancesquares[previousword,currentword] = \\\n",
    "                                sumdistancesquares[previousword,currentword] + (m - (m - n - 1)) ** 2                \n",
    "                # Mark that we found this pair while counting down from m,               \n",
    "                # so we do not count more distant occurrences of the pair                \n",
    "                latestoccurrencepositions[currentword,previousword] = m                \n",
    "                latestoccurrencepositions[previousword,currentword] = m\n",
    "\n",
    "    return distanceoccurrences, sumdistances, sumabsdistances, sumdistancesquares"
   ]
  },
  {
   "cell_type": "code",
   "execution_count": 138,
   "id": "adapted-election",
   "metadata": {},
   "outputs": [],
   "source": [
    "dist_occurrences_call_wild, sum_dist_call_wild,\\\n",
    "                sum_abs_dist_call_wild, sum_dist_squares = find_dist_between_words(pruned_call_wild, \n",
    "                                                                                   remain_pruned_vocabulary_call_wild,\n",
    "                                                                                   indices_pruned_vocab_call_wild)"
   ]
  },
  {
   "cell_type": "code",
   "execution_count": 18,
   "id": "vertical-stack",
   "metadata": {},
   "outputs": [],
   "source": [
    "def statistic_dist_between_words(pruned_vocab, dist_occurrences, sum_dist, sum_abs_dist, sum_dist_squares):\n",
    "    \n",
    "    overalldistancecount = np.sum(dist_occurrences)\n",
    "    overalldistancesum = np.sum(sum_dist)\n",
    "    overallabsdistancesum = np.sum(sum_abs_dist)\n",
    "    overalldistancesquaresum = np.sum(sum_dist_squares)\n",
    "    overalldistancemean = overalldistancesum / overalldistancecount\n",
    "    overallabsdistancemean = overallabsdistancesum / overalldistancecount\n",
    "    overalldistancevariance = overalldistancesquaresum / (overalldistancecount - 1)\\\n",
    "                                    -overalldistancecount / (overalldistancecount) * overalldistancemean \n",
    "    overallabsdistancevariance = overalldistancesquaresum / (overalldistancecount - 1)\\\n",
    "                                    -overalldistancecount / (overalldistancecount) * overallabsdistancemean\n",
    "    \n",
    "    n_vocab = len(pruned_vocab) \n",
    "    \n",
    "    distancemeans = scipy.sparse.lil_matrix((n_vocab,n_vocab)) \n",
    "    absdistancemeans = scipy.sparse.lil_matrix((n_vocab,n_vocab)) \n",
    "    distancevariances = scipy.sparse.lil_matrix((n_vocab,n_vocab)) \n",
    "    absdistancevariances = scipy.sparse.lil_matrix((n_vocab,n_vocab)) \n",
    "    \n",
    "    for m in range(n_vocab):    \n",
    "        # Find the column indices that have at least two occurrences    \n",
    "        tempindices = np.nonzero(dist_occurrences[m,:] > 1)[1]    \n",
    "        # The occurrence vector needs to be a non-sparse data type    \n",
    "        tempoccurrences = dist_occurrences[m,tempindices].todense()    \n",
    "        # Estimate mean of m-n distance    \n",
    "        distancemeans[m,tempindices] = np.squeeze(\\\n",
    "                                                   np.array(sum_dist[m,tempindices] / tempoccurrences))    \n",
    "        absdistancemeans[m,tempindices]=np.squeeze(\\\n",
    "                                                    np.array(sum_abs_dist[m,tempindices] / tempoccurrences))    \n",
    "        # Estimate variance of m-n distance    \n",
    "        \n",
    "        meanterm = distancemeans[m,tempindices].todense()    \n",
    "        meanterm = np.multiply(meanterm, meanterm)    \n",
    "        meanterm = np.multiply(tempoccurrences / (tempoccurrences - 1), meanterm)    \n",
    "        distancevariances[m,tempindices] = np.squeeze(\\\n",
    "                                                    np.array(sum_dist_squares[m,tempindices]/(tempoccurrences-1) \\\n",
    "                                                                   - meanterm))    \n",
    "        meanterm = absdistancemeans[m,tempindices].todense()    \n",
    "        meanterm = np.multiply(meanterm,meanterm)    \n",
    "        meanterm = np.multiply(tempoccurrences / (tempoccurrences - 1),meanterm)    \n",
    "        absdistancevariances[m,tempindices] = np.squeeze(\\\n",
    "                                                        np.array(sum_dist_squares[m,tempindices] / (tempoccurrences-1) \\\n",
    "                                                                      - meanterm))\n",
    "        \n",
    "    absdistancepvalues = scipy.sparse.lil_matrix((n_vocab,n_vocab)) \n",
    "        \n",
    "    for m in range(n_vocab):    \n",
    "        # Find pairs of word m    \n",
    "        tempindices = np.nonzero(dist_occurrences[m,:]>1)[1]   \n",
    "        # For computation we need to transform these to non-sparse vectors    \n",
    "        meanterm = absdistancemeans[m,tempindices].todense()    \n",
    "        varianceterm = absdistancevariances[m,tempindices].todense()    \n",
    "        occurrenceterm = dist_occurrences[m,tempindices].todense()    \n",
    "        # Compute the t-test statistic for each pair    \n",
    "        tempstatistic = (meanterm - overallabsdistancemean) / \\\n",
    "                                np.sqrt(varianceterm / occurrenceterm + \\\n",
    "                                       overallabsdistancevariance / overalldistancecount)    \n",
    "        # Compute the t-test degrees of freedom for each pair    \n",
    "        tempdf = (np.power(varianceterm / occurrenceterm + \\\n",
    "                                overallabsdistancevariance/overalldistancecount,2)) / \\\n",
    "                                        ((np.power(varianceterm / occurrenceterm,2)) / (occurrenceterm - 1) + \\\n",
    "                                             ((overallabsdistancevariance / overalldistancecount) ** 2) / \\\n",
    "                                                 (overalldistancecount - 1))\n",
    "        # Compute the t-test p-value for each pair    \n",
    "        temppvalue = scipy.stats.t.cdf(tempstatistic,tempdf)    \n",
    "        # Store the t-test p-value for each pair    \n",
    "        absdistancepvalues[m,tempindices] = np.squeeze(np.array(temppvalue))\n",
    "        \n",
    "    return distancemeans, absdistancemeans, distancevariances, absdistancevariances, absdistancepvalues"
   ]
  },
  {
   "cell_type": "code",
   "execution_count": 139,
   "id": "cosmetic-distinction",
   "metadata": {},
   "outputs": [
    {
     "name": "stderr",
     "output_type": "stream",
     "text": [
      "<ipython-input-18-af29703de4c4>:57: RuntimeWarning: invalid value encountered in sqrt\n",
      "  np.sqrt(varianceterm / occurrenceterm + \\\n"
     ]
    }
   ],
   "source": [
    "dist_means_call_wild, abs_dist_means_call_wild,\\\n",
    "        dist_var_call_wild, abs_dist_var_call_wild,\\\n",
    "                            abs_dist_pvalues_call_wild = statistic_dist_between_words(remain_pruned_vocabulary_call_wild,\n",
    "                                                                                      dist_occurrences_call_wild,\n",
    "                                                                                      sum_dist_call_wild,\n",
    "                                                                                      sum_abs_dist_call_wild,\n",
    "                                                                                      sum_dist_squares)"
   ]
  },
  {
   "cell_type": "code",
   "execution_count": 60,
   "id": "handed-solution",
   "metadata": {},
   "outputs": [],
   "source": [
    "def get_indices(num, dim):\n",
    "    \n",
    "    row = num // dim\n",
    "    col = num % dim\n",
    "    \n",
    "    return [row, col]"
   ]
  },
  {
   "cell_type": "code",
   "execution_count": 153,
   "id": "imperial-macro",
   "metadata": {},
   "outputs": [],
   "source": [
    "def print_top_k_collocations(remain_pruned_vocab, abs_dist_means, dist_occurrences, abs_dist_pvalues, k=20, search_pairs_tags=[['NN','JJ'], ['NN','NN']], minpairoccurrences=10):\n",
    "    # length of vocabulary\n",
    "    dim = len(remain_pruned_vocab)\n",
    "    \n",
    "    # sort absolute distance means in the ascending order and get its indices\n",
    "    high_abs_mean_dist_indices_1d = np.argsort(np.array(abs_dist_means.todense()).reshape(dim ** 2))\n",
    "    \n",
    "    # sort absolute distance means in the ascending order and get its values\n",
    "    high_abs_mean_dist_1d = np.sort(np.array(abs_dist_means.todense()).reshape(dim ** 2))\n",
    "    \n",
    "    # find index of the first element with a non-zero value\n",
    "    first_non_zero = next((i for i, x in enumerate(high_abs_mean_dist_1d) if x), None)\n",
    "    \n",
    "    # save passed elements to avoid repetition (the matrix is symmetric) \n",
    "    passed_indices = []\n",
    "    \n",
    "    # save indices of found collocations (pairs of words)\n",
    "    top_words_indices = []\n",
    "    \n",
    "    # variable for iterations\n",
    "    i = first_non_zero - 1\n",
    "\n",
    "    # iterate while the number of found words is less than k\n",
    "    while len(top_words_indices) < k:\n",
    "        i += 1\n",
    "        # get indices for every word from pair\n",
    "        indices_pair = get_indices(high_abs_mean_dist_indices_1d[i], dim)\n",
    "    \n",
    "        # check a repetition\n",
    "        if indices_pair[::-1] in passed_indices:\n",
    "            continue\n",
    "            \n",
    "        # save the proccessed element\n",
    "        passed_indices.append(indices_pair)\n",
    "\n",
    "        # check a number of occurrences\n",
    "        if (dist_occurrences[indices_pair[0],indices_pair[1]] >= minpairoccurrences) and (remain_pruned_vocab[indices_pair[0]] != remain_pruned_vocab[indices_pair[1]]):\n",
    "            \n",
    "            # get words by indices\n",
    "            words_pair = [remain_pruned_vocab[indices_pair[0]], remain_pruned_vocab[indices_pair[1]]]\n",
    "\n",
    "            # get a part of speech for each word\n",
    "            words_tags = nltk.pos_tag(words_pair)\n",
    "\n",
    "            # save only part of speech of each word\n",
    "            tags = [words_tags[0][1], words_tags[1][1]]\n",
    "\n",
    "            # variable for checking the part of speech\n",
    "            is_tags = False\n",
    "\n",
    "            # check if words have neccessery part of speech\n",
    "            for search_pair_tags in search_pairs_tags:\n",
    "                if (search_pair_tags[0] in tags[0] and search_pair_tags[1] in tags[1]) or (search_pair_tags[1] in tags[0] and search_pair_tags[0] in tags[1]):\n",
    "                    is_tags = True\n",
    "\n",
    "            # print if words proccessed all checks\n",
    "            if is_tags:\n",
    "                top_words_indices.append(indices_pair)\n",
    "                print(words_pair[0], '-', words_pair[1], '. abs mean dist:', abs_dist_means[indices_pair[0], indices_pair[1]], '. pvalue: ', round(abs_dist_pvalues[indices_pair[0], indices_pair[1]], 5))\n",
    "\n",
    "        \n",
    "    return top_words_indices\n"
   ]
  },
  {
   "cell_type": "code",
   "execution_count": 154,
   "id": "behavioral-premium",
   "metadata": {},
   "outputs": [
    {
     "name": "stdout",
     "output_type": "stream",
     "text": [
      "thornton - john . abs mean dist: 1.8409090909090908 . pvalue:  0.0\n",
      "man - hairy . abs mean dist: 3.1818181818181817 . pvalue:  nan\n",
      "red - man . abs mean dist: 3.4 . pvalue:  nan\n",
      "han - pete . abs mean dist: 3.7333333333333334 . pvalue:  nan\n",
      "sweater - man . abs mean dist: 4.0 . pvalue:  nan\n",
      "leg - fore . abs mean dist: 4.333333333333333 . pvalue:  nan\n",
      "judge - miller . abs mean dist: 4.4 . pvalue:  0.00016\n",
      "heem - dat . abs mean dist: 5.142857142857143 . pvalue:  nan\n",
      "foot - spring . abs mean dist: 5.2 . pvalue:  nan\n",
      "club - man . abs mean dist: 5.25 . pvalue:  nan\n",
      "life - time . abs mean dist: 5.357142857142857 . pvalue:  nan\n",
      "françois - call . abs mean dist: 5.363636363636363 . pvalue:  nan\n",
      "life - man . abs mean dist: 5.5 . pvalue:  2e-05\n",
      "spitz - time . abs mean dist: 5.642857142857143 . pvalue:  nan\n",
      "trail - mile . abs mean dist: 5.7 . pvalue:  nan\n",
      "camp - night . abs mean dist: 6.083333333333333 . pvalue:  nan\n",
      "spitz - shoulder . abs mean dist: 6.1 . pvalue:  nan\n",
      "hand - thornton . abs mean dist: 6.1875 . pvalue:  nan\n",
      "françois - perrault . abs mean dist: 6.321428571428571 . pvalue:  nan\n",
      "come - land . abs mean dist: 6.6 . pvalue:  nan\n"
     ]
    },
    {
     "data": {
      "text/plain": [
       "[[1108, 537],\n",
       " [647, 449],\n",
       " [851, 647],\n",
       " [453, 791],\n",
       " [1080, 647],\n",
       " [590, 385],\n",
       " [540, 684],\n",
       " [479, 233],\n",
       " [383, 1023],\n",
       " [185, 647],\n",
       " [600, 1122],\n",
       " [397, 147],\n",
       " [600, 647],\n",
       " [1017, 1122],\n",
       " [1136, 683],\n",
       " [148, 734],\n",
       " [1017, 941],\n",
       " [454, 1108],\n",
       " [397, 790],\n",
       " [190, 561]]"
      ]
     },
     "execution_count": 154,
     "metadata": {},
     "output_type": "execute_result"
    }
   ],
   "source": [
    "print_top_k_collocations(remain_pruned_vocabulary_call_wild, abs_dist_means_call_wild, dist_occurrences_call_wild, abs_dist_pvalues_call_wild)"
   ]
  },
  {
   "cell_type": "code",
   "execution_count": 91,
   "id": "sharing-israel",
   "metadata": {},
   "outputs": [],
   "source": [
    "def findwordindex(word, vocab):    \n",
    "    for k in range(len(vocab)):        \n",
    "        if vocab[k] == word:            \n",
    "            return(k)   \n",
    "        \n",
    "    return(-1)"
   ]
  },
  {
   "cell_type": "code",
   "execution_count": 225,
   "id": "junior-energy",
   "metadata": {},
   "outputs": [],
   "source": [
    "def print_top_k_collocations_with_word(word, remain_pruned_vocab, abs_dist_means, dist_occurrences, abs_dist_pvalues, k=20, search_pairs_tags=[['NN','JJ'], ['NN','NN']]):\n",
    "    word_index = findwordindex(word, remain_pruned_vocab)\n",
    "    \n",
    "    if word_index == -1:        \n",
    "        print('Word not found: ' + word)        \n",
    "        return \n",
    "    \n",
    "    lowest_meandistances_indices = np.argsort(np.squeeze(\\\n",
    "                                                          np.array(abs_dist_means[word_index,:].todense())),axis=0) \n",
    "    # save indices of found collocations (pairs of words)\n",
    "    top_words_indices = []\n",
    "    i = -1 \n",
    "    \n",
    "    while len(top_words_indices) < k and (i + 1) < len(lowest_meandistances_indices):\n",
    "        i += 1\n",
    "        index = lowest_meandistances_indices[i]\n",
    "        \n",
    "        if abs_dist_means[word_index, index] > 1:\n",
    "            words = [word, remain_pruned_vocab[index]]\n",
    "            words_tags = nltk.pos_tag(words)\n",
    "            tags = [words_tags[0][1], words_tags[1][1]]\n",
    "\n",
    "            is_tags = False\n",
    "\n",
    "            for search_pair_tags in search_pairs_tags:\n",
    "                if (search_pair_tags[0] in tags[0] and search_pair_tags[1] in tags[1]) or (search_pair_tags[1] in tags[0] and search_pair_tags[0] in tags[1]):\n",
    "                    is_tags = True\n",
    "\n",
    "            if is_tags:\n",
    "                top_words_indices.append(index)\n",
    "                print(word, '-', remain_pruned_vocab[index], '. abs mean dist:', abs_dist_means[word_index, index], '. pvalue: ', round(abs_dist_pvalues[word_index, index], 5))\n",
    "\n",
    "\n",
    "    return top_words_indices"
   ]
  },
  {
   "cell_type": "code",
   "execution_count": 222,
   "id": "streaming-contrary",
   "metadata": {},
   "outputs": [
    {
     "name": "stdout",
     "output_type": "stream",
     "text": [
      "Word not found: dog\n"
     ]
    }
   ],
   "source": [
    "print_top_k_collocations_with_word('dog', remain_pruned_vocabulary_call_wild, abs_dist_means_call_wild_unpruned, dist_occurrences_call_wild_unpruned, abs_dist_pvalues_call_wild_unpruned)"
   ]
  },
  {
   "cell_type": "markdown",
   "id": "sustainable-microwave",
   "metadata": {},
   "source": [
    "I have tried to find 'dog' but got an error because 'dog' was deleted after the pruning, so we neew do the counting of occurrences and other statistics for unpruned (lemmatazied) text."
   ]
  },
  {
   "cell_type": "code",
   "execution_count": 157,
   "id": "tribal-france",
   "metadata": {},
   "outputs": [],
   "source": [
    "dist_occurrences_call_wild_unpruned, sum_dist_call_wild_unpruned,\\\n",
    "                sum_abs_dist_call_wild_unpruned, sum_dist_squares_unpruned = find_dist_between_words(lemmatized_call_wild, \n",
    "                                                                                                     call_wild_vocabulary,\n",
    "                                                                                                     indices_call_wild_vocabulary)"
   ]
  },
  {
   "cell_type": "code",
   "execution_count": 159,
   "id": "false-fitness",
   "metadata": {},
   "outputs": [
    {
     "name": "stderr",
     "output_type": "stream",
     "text": [
      "<ipython-input-18-af29703de4c4>:57: RuntimeWarning: invalid value encountered in sqrt\n",
      "  np.sqrt(varianceterm / occurrenceterm + \\\n"
     ]
    }
   ],
   "source": [
    "dist_means_call_wild_unpruned, abs_dist_means_call_wild_unpruned,\\\n",
    "        dist_var_call_wild_unpruned, abs_dist_var_call_wild_unpruned,\\\n",
    "                            abs_dist_pvalues_call_wild_unpruned = statistic_dist_between_words(call_wild_vocabulary,\n",
    "                                                                                      dist_occurrences_call_wild_unpruned,\n",
    "                                                                                      sum_dist_call_wild_unpruned,\n",
    "                                                                                      sum_abs_dist_call_wild_unpruned,\n",
    "                                                                                      sum_dist_squares_unpruned)"
   ]
  },
  {
   "cell_type": "code",
   "execution_count": 226,
   "id": "close-cookbook",
   "metadata": {},
   "outputs": [
    {
     "name": "stdout",
     "output_type": "stream",
     "text": [
      "dog - such . abs mean dist: 1.6666666666666667 . pvalue:  0.00124\n",
      "dog - fourteen . abs mean dist: 1.8 . pvalue:  0.00061\n",
      "dog - manner . abs mean dist: 2.0 . pvalue:  0.0\n",
      "dog - secure . abs mean dist: 2.5 . pvalue:  0.02717\n",
      "dog - human . abs mean dist: 3.0 . pvalue:  nan\n",
      "dog - drive . abs mean dist: 3.0 . pvalue:  nan\n",
      "dog - southland . abs mean dist: 3.0 . pvalue:  nan\n",
      "dog - turn . abs mean dist: 3.0 . pvalue:  nan\n",
      "dog - white . abs mean dist: 3.3333333333333335 . pvalue:  0.08252\n",
      "dog - other . abs mean dist: 3.3846153846153846 . pvalue:  nan\n",
      "dog - fall . abs mean dist: 3.5 . pvalue:  0.05635\n",
      "dog - consider . abs mean dist: 3.5 . pvalue:  0.09566\n",
      "dog - pull . abs mean dist: 3.5 . pvalue:  nan\n",
      "dog - strange . abs mean dist: 3.6666666666666665 . pvalue:  nan\n",
      "dog - husky . abs mean dist: 4.0 . pvalue:  nan\n",
      "dog - buy . abs mean dist: 4.0 . pvalue:  0.07208\n",
      "dog - return . abs mean dist: 4.0 . pvalue:  0.0\n",
      "dog - fight . abs mean dist: 4.0 . pvalue:  nan\n",
      "dog - fool . abs mean dist: 4.0 . pvalue:  nan\n",
      "dog - leap . abs mean dist: 4.0 . pvalue:  nan\n"
     ]
    },
    {
     "data": {
      "text/plain": [
       "[3296,\n",
       " 1316,\n",
       " 2040,\n",
       " 2909,\n",
       " 1645,\n",
       " 979,\n",
       " 3145,\n",
       " 3598,\n",
       " 3858,\n",
       " 2337,\n",
       " 1148,\n",
       " 683,\n",
       " 2607,\n",
       " 3253,\n",
       " 1662,\n",
       " 455,\n",
       " 2777,\n",
       " 1218,\n",
       " 1279,\n",
       " 1900]"
      ]
     },
     "execution_count": 226,
     "metadata": {},
     "output_type": "execute_result"
    }
   ],
   "source": [
    "print_top_k_collocations_with_word('dog', call_wild_vocabulary, abs_dist_means_call_wild_unpruned, dist_occurrences_call_wild_unpruned, abs_dist_pvalues_call_wild_unpruned)"
   ]
  },
  {
   "cell_type": "markdown",
   "id": "advance-vault",
   "metadata": {},
   "source": [
    "# 3.4"
   ]
  },
  {
   "cell_type": "code",
   "execution_count": 227,
   "id": "tropical-arizona",
   "metadata": {},
   "outputs": [
    {
     "name": "stdout",
     "output_type": "stream",
     "text": [
      "['for the first fourteen years', 'for many years', 'for many years', 'for several years', 'for nearly two years', 'for nearly six years', 'for many years', 'for five and at another for nearly two years', 'for many years', 'for many years', 'for several years']\n"
     ]
    }
   ],
   "source": [
    "# getting the html content of the \"Frankenstein\"\n",
    "frankenstein_html = requests.get('https://www.gutenberg.org/files/84/84-0.txt')\n",
    "\n",
    "# getting the text from the html content of the \"Frankenstein\"\n",
    "frankenstein_text = bs4.BeautifulSoup(frankenstein_html.content,'html.parser')\n",
    "\n",
    "# delete /n and /r from text of the \"Frankenstein\"\n",
    "frankenstein_text = ' '.join(str(frankenstein_text).split())\n",
    "\n",
    "print(re.findall('for\\s[\\w\\s]+years', frankenstein_text))"
   ]
  },
  {
   "cell_type": "code",
   "execution_count": null,
   "id": "resistant-blogger",
   "metadata": {},
   "outputs": [],
   "source": []
  }
 ],
 "metadata": {
  "kernelspec": {
   "display_name": "Python 3",
   "language": "python",
   "name": "python3"
  },
  "language_info": {
   "codemirror_mode": {
    "name": "ipython",
    "version": 3
   },
   "file_extension": ".py",
   "mimetype": "text/x-python",
   "name": "python",
   "nbconvert_exporter": "python",
   "pygments_lexer": "ipython3",
   "version": "3.9.2"
  }
 },
 "nbformat": 4,
 "nbformat_minor": 5
}

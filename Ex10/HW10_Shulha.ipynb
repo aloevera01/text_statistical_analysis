{
 "cells": [
  {
   "cell_type": "code",
   "execution_count": 13,
   "id": "intellectual-cheese",
   "metadata": {},
   "outputs": [],
   "source": [
    "import numpy as np\n",
    "import re"
   ]
  },
  {
   "cell_type": "code",
   "execution_count": 3,
   "id": "fleet-belize",
   "metadata": {},
   "outputs": [],
   "source": [
    "vocabulary = ['a', 'am', 'and', 'answer', 'are', 'bird', 'but', 'cat', 'cautious', \n",
    "              'explain', 'fox', 'friendly', 'help', 'i', 'insightful', 'is', 'may', \n",
    "              'robot', 'strong', 'the', 'they', 'when', 'will', 'wise', 'you' ]"
   ]
  },
  {
   "cell_type": "code",
   "execution_count": 41,
   "id": "great-mission",
   "metadata": {},
   "outputs": [],
   "source": [
    "file = open('C:/disk_D/1_tampere_uni/text data analysis/hw/10/texts.txt', 'r')\n",
    "documents = file.readlines()\n",
    "\n",
    "for i, doc in enumerate(documents):\n",
    "    documents[i] = doc.replace('\\n', '')"
   ]
  },
  {
   "cell_type": "code",
   "execution_count": 62,
   "id": "nearby-authentication",
   "metadata": {},
   "outputs": [
    {
     "name": "stdout",
     "output_type": "stream",
     "text": [
      "cosine similarity between document 1 and query 0.060978100492754414\n",
      "cosine similarity between document 2 and query 1.0\n"
     ]
    }
   ],
   "source": [
    "tf_d1 = []\n",
    "tf_d2 = []\n",
    "tf_q = []\n",
    "\n",
    "# text of the query\n",
    "query = 'insightful bird'\n",
    "\n",
    "# raw counts (tf) for documents 1,2 and query\n",
    "for vocab_word in vocabulary:\n",
    "    count_d1 = len(re.findall(vocab_word, documents[0]))\n",
    "    count_d2 = len(re.findall(vocab_word, documents[1]))\n",
    "    count_q = len(re.findall(vocab_word, query))\n",
    "    tf_d1.append(count_d1)\n",
    "    tf_d2.append(count_d2)\n",
    "    tf_q.append(count_q)\n",
    "    \n",
    "# df counts (presentence of each word from the vocabulary)\n",
    "df = []\n",
    "\n",
    "for vocab_word in vocabulary:\n",
    "    present = 0\n",
    "    for doc in documents:\n",
    "        if len(re.findall(vocab_word, doc)) != 0:\n",
    "            present += 1\n",
    "    df.append(present)\n",
    "\n",
    "# logarithmic inverse document frequency\n",
    "idf = np.log(len(documents) / np.array(df))\n",
    "\n",
    "# tf-idf representation for documents 1,2 and query\n",
    "tf_idf_d1 = np.array(tf_d1) * idf\n",
    "tf_idf_d2 = np.array(tf_d2) * idf\n",
    "tf_idf_q = np.array(tf_q) * idf\n",
    "\n",
    "# cosine similarity between documents 1,2 and query\n",
    "cosine_d1_q = np.sum(tf_idf_q * tf_idf_d1) / ((np.sqrt(np.sum(tf_idf_d1 ** 2))) * (np.sqrt(np.sum(tf_idf_q ** 2))))\n",
    "cosine_d2_q = np.sum(tf_idf_q * tf_idf_d2) / ((np.sqrt(np.sum(tf_idf_d2 ** 2))) * (np.sqrt(np.sum(tf_idf_q ** 2))))\n",
    "\n",
    "# print results\n",
    "print('cosine similarity between document 1 and query', cosine_d1_q)\n",
    "print('cosine similarity between document 2 and query', cosine_d2_q)"
   ]
  },
  {
   "cell_type": "code",
   "execution_count": 63,
   "id": "material-creativity",
   "metadata": {},
   "outputs": [
    {
     "name": "stdout",
     "output_type": "stream",
     "text": [
      "the unigram probability for the query given by d1 0.0002921055798945642\n",
      "the unigram probability for the query given by d2 0.020833333333333332\n"
     ]
    }
   ],
   "source": [
    "# calculating theta by dividing tf of each document by its number of words\n",
    "theta_d1 = np.array(tf_d1) / len(documents[0].split(' '))\n",
    "theta_d2 = np.array(tf_d2) / len(documents[1].split(' '))\n",
    "\n",
    "# calculating the product of factorials of each word count \n",
    "permut_query_denominator = 1\n",
    "for q in tf_q:\n",
    "    permut_query_denominator *= np.math.factorial(q)\n",
    "\n",
    "# divide factorial of the number of words in query by product of factorials (which is calculated previously)\n",
    "permut_query = np.math.factorial(len(query.split())) / permut_query_denominator\n",
    "\n",
    "# initialize the first element of the general product of unigram probability between the query and document 1\n",
    "prod_theta_d1_q = permut_query\n",
    "for i in range(len(theta_d1)):\n",
    "    prod_theta_d1_q *= theta_d1[i] ** tf_q[i]\n",
    "\n",
    "# initialize the first element of the general product of unigram probability between the query and document 2\n",
    "prod_theta_d2_q = permut_query\n",
    "for i in range(len(theta_d2)):\n",
    "    prod_theta_d2_q *= theta_d2[i] ** tf_q[i]\n",
    "    \n",
    "# print results\n",
    "print('the unigram probability for the query given by d1', prod_theta_d1_q)\n",
    "print('the unigram probability for the query given by d2', prod_theta_d2_q)"
   ]
  },
  {
   "cell_type": "code",
   "execution_count": 64,
   "id": "tribal-crest",
   "metadata": {},
   "outputs": [
    {
     "name": "stdout",
     "output_type": "stream",
     "text": [
      "3.25\n"
     ]
    }
   ],
   "source": [
    "print(1 + (1/2) + (3/4) + 1)"
   ]
  }
 ],
 "metadata": {
  "kernelspec": {
   "display_name": "Python 3",
   "language": "python",
   "name": "python3"
  },
  "language_info": {
   "codemirror_mode": {
    "name": "ipython",
    "version": 3
   },
   "file_extension": ".py",
   "mimetype": "text/x-python",
   "name": "python",
   "nbconvert_exporter": "python",
   "pygments_lexer": "ipython3",
   "version": "3.9.2"
  }
 },
 "nbformat": 4,
 "nbformat_minor": 5
}

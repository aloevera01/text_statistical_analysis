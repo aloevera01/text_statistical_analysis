{
 "cells": [
  {
   "cell_type": "code",
   "execution_count": 4,
   "id": "regular-yeast",
   "metadata": {},
   "outputs": [
    {
     "data": {
      "text/plain": [
       "array([[0. , 0. , 0.5, 0. , 0.5],\n",
       "       [1. , 0. , 0. , 0. , 0. ],\n",
       "       [0. , 0. , 0.3, 0. , 0.7],\n",
       "       [0. , 1. , 0. , 0. , 0. ],\n",
       "       [0. , 0.5, 0. , 0.5, 0. ]])"
      ]
     },
     "execution_count": 4,
     "metadata": {},
     "output_type": "execute_result"
    }
   ],
   "source": [
    "import numpy as np\n",
    "\n",
    "beta = np.array([[0.6, 0.4, 0, 0, 0, 0, 0, 0, 0, 0, 0, 0, 0, 0], \n",
    "                 [0, 0, 0.2, 0.4, 0.4, 0, 0, 0, 0, 0, 0, 0, 0, 0],\n",
    "                 [0, 0, 0, 0, 0, 0.5, 0.3, 0.2, 0, 0, 0, 0, 0, 0],\n",
    "                 [0, 0, 0, 0, 0, 0, 0, 0, 0.1, 0.4, 0.5, 0, 0, 0],\n",
    "                 [0, 0, 0, 0, 0, 0, 0, 0, 0, 0, 0, 0.3, 0.4, 0.3]])\n",
    "\n",
    "theta = np.array([[0, 0, 0.5, 0, 0.5],\n",
    "                  [1, 0, 0, 0, 0],\n",
    "                  [0, 0, 0.3, 0, 0.7],\n",
    "                  [0, 1, 0, 0, 0],\n",
    "                  [0, 0.5, 0, 0.5, 0]])"
   ]
  },
  {
   "cell_type": "code",
   "execution_count": 62,
   "id": "known-threshold",
   "metadata": {},
   "outputs": [
    {
     "data": {
      "text/plain": [
       "(5, 14)"
      ]
     },
     "execution_count": 62,
     "metadata": {},
     "output_type": "execute_result"
    }
   ],
   "source": [
    "beta.shape"
   ]
  },
  {
   "cell_type": "code",
   "execution_count": 59,
   "id": "hybrid-temperature",
   "metadata": {},
   "outputs": [],
   "source": [
    "sentence = [2, 6, 12, 9, 3, 1, 13]\n",
    "pi_k = 1/5"
   ]
  },
  {
   "cell_type": "code",
   "execution_count": 44,
   "id": "israeli-linux",
   "metadata": {},
   "outputs": [],
   "source": [
    "def p_forward(t, k, beta, theta):\n",
    "    if t == 1:\n",
    "        return beta[k][1] * 1/5\n",
    "    else:\n",
    "        sum_forward = 0\n",
    "        for i in range(len(theta)):\n",
    "            print(type(p_forward(t - 1, i, beta, theta)), i, t, k)\n",
    "            sum_forward += p_forward(t - 1, i, beta, theta) * theta[i][k - 1] * beta[k - 1][t]"
   ]
  },
  {
   "cell_type": "code",
   "execution_count": null,
   "id": "unlikely-rhythm",
   "metadata": {},
   "outputs": [],
   "source": []
  },
  {
   "cell_type": "code",
   "execution_count": 88,
   "id": "molecular-level",
   "metadata": {},
   "outputs": [],
   "source": [
    "def forwardprobs(observations, initialprob, trans, emis, numstates):\n",
    "    print(emis.shape, trans.shape)\n",
    "    forwardmatrix = np.zeros((numstates, len(observations)))\n",
    "\n",
    "    # initialization\n",
    "\n",
    "    obs_index = 0\n",
    "    \n",
    "    for s in range(numstates):\n",
    "\n",
    "        forwardmatrix[ s, 0 ] = initialprob[s] * emis[ s, obs_index]\n",
    "\n",
    "    # recursion step\n",
    "\n",
    "    for t in range(1, len(observations)):\n",
    "\n",
    "        for s in range(numstates):\n",
    "            #print(t, s)\n",
    "            forwardmatrix[s, t] = emis[s, t] * sum([forwardmatrix[s2, t-1] * trans[s2, s] \\\n",
    "\n",
    "                                       for s2 in range(numstates)])\n",
    "            \n",
    "    return forwardmatrix"
   ]
  },
  {
   "cell_type": "code",
   "execution_count": 74,
   "id": "fifth-modern",
   "metadata": {},
   "outputs": [
    {
     "data": {
      "text/plain": [
       "[0.2, 0.2, 0.2, 0.2, 0.2]"
      ]
     },
     "execution_count": 74,
     "metadata": {},
     "output_type": "execute_result"
    }
   ],
   "source": [
    "a = [i for i in range(14)]\n",
    "[1/5 for i in range(5)]"
   ]
  },
  {
   "cell_type": "code",
   "execution_count": 89,
   "id": "unable-hanging",
   "metadata": {},
   "outputs": [
    {
     "name": "stdout",
     "output_type": "stream",
     "text": [
      "(5, 14) (5, 5)\n"
     ]
    }
   ],
   "source": [
    "gg = forwardprobs(a, [1/5 for i in range(5)], theta, beta, 5)"
   ]
  },
  {
   "cell_type": "code",
   "execution_count": 90,
   "id": "seasonal-level",
   "metadata": {},
   "outputs": [
    {
     "data": {
      "text/plain": [
       "array([[0.12, 0.  , 0.  , 0.  , 0.  , 0.  , 0.  , 0.  , 0.  , 0.  , 0.  ,\n",
       "        0.  , 0.  , 0.  ],\n",
       "       [0.  , 0.  , 0.  , 0.  , 0.  , 0.  , 0.  , 0.  , 0.  , 0.  , 0.  ,\n",
       "        0.  , 0.  , 0.  ],\n",
       "       [0.  , 0.  , 0.  , 0.  , 0.  , 0.  , 0.  , 0.  , 0.  , 0.  , 0.  ,\n",
       "        0.  , 0.  , 0.  ],\n",
       "       [0.  , 0.  , 0.  , 0.  , 0.  , 0.  , 0.  , 0.  , 0.  , 0.  , 0.  ,\n",
       "        0.  , 0.  , 0.  ],\n",
       "       [0.  , 0.  , 0.  , 0.  , 0.  , 0.  , 0.  , 0.  , 0.  , 0.  , 0.  ,\n",
       "        0.  , 0.  , 0.  ]])"
      ]
     },
     "execution_count": 90,
     "metadata": {},
     "output_type": "execute_result"
    }
   ],
   "source": [
    "gg"
   ]
  },
  {
   "cell_type": "code",
   "execution_count": 67,
   "id": "sixth-thomson",
   "metadata": {},
   "outputs": [],
   "source": [
    "p_forward = np.zeros(beta.shape)\n",
    "\n",
    "for i in range(beta.shape[0]):\n",
    "    p_forward[i][0] = beta[i][0] * pi_k\n",
    "\n",
    "for i in range(1, beta.shape[1]):\n",
    "    for j in range(beta.shape[0]):\n",
    "        sum_k = 0\n",
    "        for k in range(beta.shape[0]):\n",
    "            #print(j, i, k)\n",
    "            sum_k += p_forward[k][i-1] * theta[j][k] * beta[j][i]\n",
    "        p_forward[j][i] = sum_k"
   ]
  },
  {
   "cell_type": "code",
   "execution_count": 68,
   "id": "caring-negotiation",
   "metadata": {},
   "outputs": [
    {
     "data": {
      "text/plain": [
       "array([[0.12, 0.  , 0.  , 0.  , 0.  , 0.  , 0.  , 0.  , 0.  , 0.  , 0.  ,\n",
       "        0.  , 0.  , 0.  ],\n",
       "       [0.  , 0.  , 0.  , 0.  , 0.  , 0.  , 0.  , 0.  , 0.  , 0.  , 0.  ,\n",
       "        0.  , 0.  , 0.  ],\n",
       "       [0.  , 0.  , 0.  , 0.  , 0.  , 0.  , 0.  , 0.  , 0.  , 0.  , 0.  ,\n",
       "        0.  , 0.  , 0.  ],\n",
       "       [0.  , 0.  , 0.  , 0.  , 0.  , 0.  , 0.  , 0.  , 0.  , 0.  , 0.  ,\n",
       "        0.  , 0.  , 0.  ],\n",
       "       [0.  , 0.  , 0.  , 0.  , 0.  , 0.  , 0.  , 0.  , 0.  , 0.  , 0.  ,\n",
       "        0.  , 0.  , 0.  ]])"
      ]
     },
     "execution_count": 68,
     "metadata": {},
     "output_type": "execute_result"
    }
   ],
   "source": [
    "p_forward"
   ]
  },
  {
   "cell_type": "code",
   "execution_count": null,
   "id": "enormous-stranger",
   "metadata": {},
   "outputs": [],
   "source": [
    "N = sentence[-1]\n",
    "proba_sentence = 0\n",
    "for word in sentence:\n",
    "    p_forward_word = 0\n",
    "    for i in range(1, N):\n",
    "        "
   ]
  }
 ],
 "metadata": {
  "kernelspec": {
   "display_name": "Python 3",
   "language": "python",
   "name": "python3"
  },
  "language_info": {
   "codemirror_mode": {
    "name": "ipython",
    "version": 3
   },
   "file_extension": ".py",
   "mimetype": "text/x-python",
   "name": "python",
   "nbconvert_exporter": "python",
   "pygments_lexer": "ipython3",
   "version": "3.9.2"
  }
 },
 "nbformat": 4,
 "nbformat_minor": 5
}
